{
 "cells": [
  {
   "cell_type": "code",
   "execution_count": 1,
   "metadata": {},
   "outputs": [],
   "source": [
    "# Import libraries necessary for this project\n",
    "import numpy as np\n",
    "import pandas as pd\n",
    "from IPython.display import display # Allows the use of display() for DataFrames"
   ]
  },
  {
   "cell_type": "code",
   "execution_count": 2,
   "metadata": {},
   "outputs": [
    {
     "name": "stdout",
     "output_type": "stream",
     "text": [
      "showing info https://raw.githubusercontent.com/nltk/nltk_data/gh-pages/index.xml\n"
     ]
    },
    {
     "data": {
      "text/plain": [
       "True"
      ]
     },
     "execution_count": 2,
     "metadata": {},
     "output_type": "execute_result"
    }
   ],
   "source": [
    "import nltk\n",
    "nltk.download()"
   ]
  },
  {
   "cell_type": "code",
   "execution_count": null,
   "metadata": {},
   "outputs": [],
   "source": []
  },
  {
   "cell_type": "code",
   "execution_count": 3,
   "metadata": {},
   "outputs": [],
   "source": [
    "df = open(\"Investor.Amankan.Dana.Rupiah.Melemah.news\").read()"
   ]
  },
  {
   "cell_type": "code",
   "execution_count": 4,
   "metadata": {},
   "outputs": [
    {
     "data": {
      "text/plain": [
       "'Selasa, 28 Juni 2011\\nTerhadap Dollar AS\\n1\\nInvestor Amankan Dana, Rupiah Melemah \\nJAKARTA, KOMPAS.com - Kurs mata uang rupiah terhadap dollar AS pada perdagangan Selasa (28/6/2011) pagi melemah lima poin ke posisi Rp 8.620 dibanding sebelumnya Rp 8.615. Analis pasar uang dari Bank Saudara Tbk, Rully Nova di Jakarta, Selasa mengatakan, pergerakan pasar uang cenderung kurang ramai dikarenakan pelaku pasar masih mencermati perkembangan kondisi di Yunani. Ia menambahkan, pelaku pasar juga tengah mengamankan dananya pada mata uang yang aman dan kuat di tengah kondisi global yang tidak menentu seperti pada mata uang dollar AS.  AS menjadi salah satu tempat pilihan bagi investor untuk menjaga nilai mata uang. Pelaku pasar merasa lebih aman dengan menempatkan dananya dalam bentuk dollar AS di tengah kondisi perekonomian global yang masih memberikan '"
      ]
     },
     "metadata": {},
     "output_type": "display_data"
    }
   ],
   "source": [
    "display(df)"
   ]
  },
  {
   "cell_type": "code",
   "execution_count": 5,
   "metadata": {},
   "outputs": [
    {
     "name": "stdout",
     "output_type": "stream",
     "text": [
      "selasa, 28 juni 2011\n",
      "terhadap dollar as\n",
      "1\n",
      "investor amankan dana, rupiah melemah \n",
      "jakarta, kompas.com - kurs mata uang rupiah terhadap dollar as pada perdagangan selasa (28/6/2011) pagi melemah lima poin ke posisi rp 8.620 dibanding sebelumnya rp 8.615. analis pasar uang dari bank saudara tbk, rully nova di jakarta, selasa mengatakan, pergerakan pasar uang cenderung kurang ramai dikarenakan pelaku pasar masih mencermati perkembangan kondisi di yunani. ia menambahkan, pelaku pasar juga tengah mengamankan dananya pada mata uang yang aman dan kuat di tengah kondisi global yang tidak menentu seperti pada mata uang dollar as.  as menjadi salah satu tempat pilihan bagi investor untuk menjaga nilai mata uang. pelaku pasar merasa lebih aman dengan menempatkan dananya dalam bentuk dollar as di tengah kondisi perekonomian global yang masih memberikan \n"
     ]
    }
   ],
   "source": [
    "lower_case = df.lower()\n",
    "print(lower_case)"
   ]
  },
  {
   "cell_type": "code",
   "execution_count": 6,
   "metadata": {},
   "outputs": [],
   "source": [
    "import re # impor modul regular expression"
   ]
  },
  {
   "cell_type": "code",
   "execution_count": 7,
   "metadata": {},
   "outputs": [
    {
     "name": "stdout",
     "output_type": "stream",
     "text": [
      "selasa,  juni \n",
      "terhadap dollar as\n",
      "\n",
      "investor amankan dana, rupiah melemah \n",
      "jakarta, kompas.com - kurs mata uang rupiah terhadap dollar as pada perdagangan selasa (//) pagi melemah lima poin ke posisi rp . dibanding sebelumnya rp .. analis pasar uang dari bank saudara tbk, rully nova di jakarta, selasa mengatakan, pergerakan pasar uang cenderung kurang ramai dikarenakan pelaku pasar masih mencermati perkembangan kondisi di yunani. ia menambahkan, pelaku pasar juga tengah mengamankan dananya pada mata uang yang aman dan kuat di tengah kondisi global yang tidak menentu seperti pada mata uang dollar as.  as menjadi salah satu tempat pilihan bagi investor untuk menjaga nilai mata uang. pelaku pasar merasa lebih aman dengan menempatkan dananya dalam bentuk dollar as di tengah kondisi perekonomian global yang masih memberikan \n"
     ]
    }
   ],
   "source": [
    "#Delete all numbers\n",
    "hasil = re.sub(r\"\\d+\", \"\", lower_case)\n",
    "print(hasil)"
   ]
  },
  {
   "cell_type": "code",
   "execution_count": 8,
   "metadata": {},
   "outputs": [],
   "source": [
    "import string"
   ]
  },
  {
   "cell_type": "code",
   "execution_count": 9,
   "metadata": {},
   "outputs": [
    {
     "name": "stdout",
     "output_type": "stream",
     "text": [
      "selasa  juni \n",
      "terhadap dollar as\n",
      "\n",
      "investor amankan dana rupiah melemah \n",
      "jakarta kompascom  kurs mata uang rupiah terhadap dollar as pada perdagangan selasa  pagi melemah lima poin ke posisi rp  dibanding sebelumnya rp  analis pasar uang dari bank saudara tbk rully nova di jakarta selasa mengatakan pergerakan pasar uang cenderung kurang ramai dikarenakan pelaku pasar masih mencermati perkembangan kondisi di yunani ia menambahkan pelaku pasar juga tengah mengamankan dananya pada mata uang yang aman dan kuat di tengah kondisi global yang tidak menentu seperti pada mata uang dollar as  as menjadi salah satu tempat pilihan bagi investor untuk menjaga nilai mata uang pelaku pasar merasa lebih aman dengan menempatkan dananya dalam bentuk dollar as di tengah kondisi perekonomian global yang masih memberikan \n"
     ]
    }
   ],
   "source": [
    "#Delete all punctuation\n",
    "hasil = re.sub(r'[^\\w\\s]','',hasil)\n",
    "print(hasil)"
   ]
  },
  {
   "cell_type": "markdown",
   "metadata": {},
   "source": [
    "# Tokenizing"
   ]
  },
  {
   "cell_type": "code",
   "execution_count": 29,
   "metadata": {},
   "outputs": [
    {
     "name": "stdout",
     "output_type": "stream",
     "text": [
      "[('uang', 6), ('as', 5), ('pasar', 5), ('mata', 4), ('dollar', 4), ('aman', 4), ('laku', 3), ('selasa', 3), ('kondisi', 3), ('tengah', 3), ('dana', 3), ('global', 2), ('lemah', 2), ('rp', 2), ('rupiah', 2), ('investor', 2), ('tempat', 2), ('jakarta', 2), ('pada', 1), ('posisi', 1), ('jadi', 1), ('tambah', 1), ('ekonomi', 1), ('rully', 1), ('pilih', 1), ('kata', 1), ('lima', 1), ('gera', 1), ('satu', 1), ('belum', 1), ('hadap', 1), ('saudara', 1), ('beri', 1), ('kuat', 1), ('nova', 1), ('tidak', 1), ('cermat', 1), ('juni', 1), ('kompascom', 1), ('jaga', 1), ('dagang', 1), ('ramai', 1), ('bentuk', 1), ('tbk', 1), ('lebih', 1), ('poin', 1), ('kembang', 1), ('banding', 1), ('bank', 1), ('karena', 1), ('yunani', 1), ('salah', 1), ('nilai', 1), ('kurang', 1), ('analis', 1), ('cenderung', 1), ('pagi', 1), ('masih', 1), ('tentu', 1), ('rasa', 1), ('kurs', 1)]\n"
     ]
    }
   ],
   "source": [
    "from nltk.tokenize import word_tokenize\n",
    "from nltk.probability import FreqDist\n",
    "\n",
    " \n",
    "tokens = nltk.tokenize.word_tokenize(hasil)\n",
    "kemunculan = nltk.FreqDist(tokens)\n",
    "print(kemunculan.most_common())"
   ]
  },
  {
   "cell_type": "code",
   "execution_count": 32,
   "metadata": {},
   "outputs": [
    {
     "name": "stdout",
     "output_type": "stream",
     "text": [
      "['selasa', 'juni', 'hadap', 'dollar', 'as', 'investor', 'aman', 'dana', 'rupiah', 'lemah', 'jakarta', 'kompascom', 'kurs', 'mata', 'uang', 'rupiah', 'dollar', 'as', 'dagang', 'selasa', 'pagi', 'lemah', 'lima', 'poin', 'posisi', 'rp', 'banding', 'belum', 'rp', 'analis', 'pasar', 'uang', 'bank', 'saudara', 'tbk', 'rully', 'nova', 'jakarta', 'selasa', 'kata', 'gera', 'pasar', 'uang', 'cenderung', 'kurang', 'ramai', 'karena', 'laku', 'pasar', 'cermat', 'kembang', 'kondisi', 'yunani', 'tambah', 'laku', 'pasar', 'tengah', 'aman', 'dana', 'mata', 'uang', 'aman', 'kuat', 'tengah', 'kondisi', 'global', 'tidak', 'tentu', 'pada', 'mata', 'uang', 'dollar', 'as', 'as', 'jadi', 'salah', 'satu', 'tempat', 'pilih', 'investor', 'jaga', 'nilai', 'mata', 'uang', 'laku', 'pasar', 'rasa', 'lebih', 'aman', 'tempat', 'dana', 'bentuk', 'dollar', 'as', 'tengah', 'kondisi', 'ekonomi', 'global', 'masih', 'beri']\n"
     ]
    }
   ],
   "source": [
    "print(tokens)"
   ]
  },
  {
   "cell_type": "code",
   "execution_count": 31,
   "metadata": {},
   "outputs": [
    {
     "data": {
      "image/png": "[encoded data removed]",
      "text/plain": [
       "<Figure size 432x288 with 1 Axes>"
      ]
     },
     "metadata": {
      "needs_background": "light"
     },
     "output_type": "display_data"
    }
   ],
   "source": [
    "import matplotlib.pyplot as plt\n",
    "kemunculan.plot(30,cumulative=False)\n",
    "plt.show()"
   ]
  },
  {
   "cell_type": "code",
   "execution_count": 44,
   "metadata": {},
   "outputs": [
    {
     "name": "stdout",
     "output_type": "stream",
     "text": [
      "['yang', 'untuk', 'pada', 'ke', 'para', 'namun', 'menurut', 'antara', 'dia', 'dua', 'ia', 'seperti', 'jika', 'jika', 'sehingga', 'kembali', 'dan', 'tidak', 'ini', 'karena', 'kepada', 'oleh', 'saat', 'harus', 'sementara', 'setelah', 'belum', 'kami', 'sekitar', 'bagi', 'serta', 'di', 'dari', 'telah', 'sebagai', 'masih', 'hal', 'ketika', 'adalah', 'itu', 'dalam', 'bisa', 'bahwa', 'atau', 'hanya', 'kita', 'dengan', 'akan', 'juga', 'ada', 'mereka', 'sudah', 'saya', 'terhadap', 'secara', 'agar', 'lain', 'anda', 'begitu', 'mengapa', 'kenapa', 'yaitu', 'yakni', 'daripada', 'itulah', 'lagi', 'maka', 'tentang', 'demi', 'dimana', 'kemana', 'pula', 'sambil', 'sebelum', 'sesudah', 'supaya', 'guna', 'kah', 'pun', 'sampai', 'sedangkan', 'selagi', 'sementara', 'tetapi', 'apakah', 'kecuali', 'sebab', 'selain', 'seolah', 'seraya', 'seterusnya', 'tanpa', 'agak', 'boleh', 'dapat', 'dsb', 'dst', 'dll', 'dahulu', 'dulunya', 'anu', 'demikian', 'tapi', 'ingin', 'juga', 'nggak', 'mari', 'nanti', 'melainkan', 'oh', 'ok', 'seharusnya', 'sebetulnya', 'setiap', 'setidaknya', 'sesuatu', 'pasti', 'saja', 'toh', 'ya', 'walau', 'tolong', 'tentu', 'amat', 'apalagi', 'bagaimanapun']\n"
     ]
    }
   ],
   "source": [
    "from Sastrawi.StopWordRemover.StopWordRemoverFactory import StopWordRemoverFactory\n",
    "factory = StopWordRemoverFactory()\n",
    "stopwords = factory.get_stop_words()\n",
    "print(stopwords)"
   ]
  },
  {
   "cell_type": "code",
   "execution_count": 34,
   "metadata": {},
   "outputs": [
    {
     "name": "stdout",
     "output_type": "stream",
     "text": [
      "['selasa', 'juni', 'hadap', 'dollar', 'as', 'investor', 'aman', 'dana', 'rupiah', 'lemah', 'jakarta', 'kompascom', 'kurs', 'mata', 'uang', 'rupiah', 'dollar', 'as', 'dagang', 'selasa', 'pagi', 'lemah', 'lima', 'poin', 'posisi', 'rp', 'banding', 'rp', 'analis', 'pasar', 'uang', 'bank', 'saudara', 'tbk', 'rully', 'nova', 'jakarta', 'selasa', 'kata', 'gera', 'pasar', 'uang', 'cenderung', 'kurang', 'ramai', 'laku', 'pasar', 'cermat', 'kembang', 'kondisi', 'yunani', 'tambah', 'laku', 'pasar', 'tengah', 'aman', 'dana', 'mata', 'uang', 'aman', 'kuat', 'tengah', 'kondisi', 'global', 'tentu', 'mata', 'uang', 'dollar', 'as', 'as', 'jadi', 'salah', 'satu', 'tempat', 'pilih', 'investor', 'jaga', 'nilai', 'mata', 'uang', 'laku', 'pasar', 'rasa', 'lebih', 'aman', 'tempat', 'dana', 'bentuk', 'dollar', 'as', 'tengah', 'kondisi', 'ekonomi', 'global', 'beri']\n"
     ]
    }
   ],
   "source": [
    "from Sastrawi.StopWordRemover.StopWordRemoverFactory import StopWordRemoverFactory\n",
    "from nltk.tokenize import word_tokenize\n",
    "factory = StopWordRemoverFactory()\n",
    "stopword = factory.create_stop_word_remover()\n",
    "stop = stopword.remove(hasil)\n",
    "tokens = nltk.tokenize.word_tokenize(stop)\n",
    "print(tokens)"
   ]
  },
  {
   "cell_type": "code",
   "execution_count": 43,
   "metadata": {},
   "outputs": [
    {
     "name": "stdout",
     "output_type": "stream",
     "text": [
      "selasa juni hadap dollar as investor aman dana rupiah lemah jakarta kompascom kurs mata uang rupiah dollar as dagang selasa pagi lemah lima poin posisi rp banding belum rp analis pasar uang bank saudara tbk rully nova jakarta selasa kata gera pasar uang cenderung kurang ramai karena laku pasar cermat kembang kondisi yunani tambah laku pasar tengah aman dana mata uang aman kuat tengah kondisi global tidak tentu pada mata uang dollar as as jadi salah satu tempat pilih investor jaga nilai mata uang laku pasar rasa lebih aman tempat dana bentuk dollar as tengah kondisi ekonomi global masih beri\n"
     ]
    }
   ],
   "source": [
    "from Sastrawi.Stemmer.StemmerFactory import StemmerFactory\n",
    "factory = StemmerFactory()\n",
    "stemmer = factory.create_stemmer()\n",
    "hasil = stemmer.stem(hasil)\n",
    "print(hasil)"
   ]
  },
  {
   "cell_type": "code",
   "execution_count": 42,
   "metadata": {},
   "outputs": [
    {
     "name": "stdout",
     "output_type": "stream",
     "text": [
      "['selasa', 'juni', 'hadap', 'dollar', 'as', 'investor', 'aman', 'dana', 'rupiah', 'lemah', 'jakarta', 'kompascom', 'kurs', 'mata', 'uang', 'rupiah', 'dollar', 'as', 'dagang', 'selasa', 'pagi', 'lemah', 'lima', 'poin', 'posisi', 'rp', 'banding', 'belum', 'rp', 'analis', 'pasar', 'uang', 'bank', 'saudara', 'tbk', 'rully', 'nova', 'jakarta', 'selasa', 'kata', 'gera', 'pasar', 'uang', 'cenderung', 'kurang', 'ramai', 'karena', 'laku', 'pasar', 'cermat', 'kembang', 'kondisi', 'yunani', 'tambah', 'laku', 'pasar', 'tengah', 'aman', 'dana', 'mata', 'uang', 'aman', 'kuat', 'tengah', 'kondisi', 'global', 'tidak', 'tentu', 'pada', 'mata', 'uang', 'dollar', 'as', 'as', 'jadi', 'salah', 'satu', 'tempat', 'pilih', 'investor', 'jaga', 'nilai', 'mata', 'uang', 'laku', 'pasar', 'rasa', 'lebih', 'aman', 'tempat', 'dana', 'bentuk', 'dollar', 'as', 'tengah', 'kondisi', 'ekonomi', 'global', 'masih', 'beri']\n"
     ]
    }
   ],
   "source": [
    "from Sastrawi.Stemmer.StemmerFactory import StemmerFactory\n",
    "factory = StemmerFactory()\n",
    "stemmer = factory.create_stemmer()\n",
    "hasil = stemmer.stem(hasil)\n",
    "tokens = nltk.tokenize.word_tokenize(hasil)\n",
    "print(tokens)"
   ]
  },
  {
   "cell_type": "code",
   "execution_count": null,
   "metadata": {},
   "outputs": [],
   "source": []
  }
 ],
 "metadata": {
  "kernelspec": {
   "display_name": "Python 2",
   "language": "python",
   "name": "python2"
  },
  "language_info": {
   "codemirror_mode": {
    "name": "ipython",
    "version": 2
   },
   "file_extension": ".py",
   "mimetype": "text/x-python",
   "name": "python",
   "nbconvert_exporter": "python",
   "pygments_lexer": "ipython2",
   "version": "2.7.16"
  }
 },
 "nbformat": 4,
 "nbformat_minor": 2
}
